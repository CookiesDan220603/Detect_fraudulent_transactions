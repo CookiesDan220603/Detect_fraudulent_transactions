{
  "cells": [
    {
      "cell_type": "markdown",
      "metadata": {
        "id": "_T7U7yCYjHAq"
      },
      "source": [
        "# Chuẩn bị dữ liệu"
      ]
    },
    {
      "cell_type": "code",
      "execution_count": 1,
      "metadata": {},
      "outputs": [],
      "source": [
        "\n",
        "from sklearn.ensemble import RandomForestClassifier\n",
        "from sklearn.metrics import classification_report, confusion_matrix, roc_auc_score, recall_score, precision_score, f1_score\n",
        "from tensorflow.keras.models import Sequential\n",
        "from tensorflow.keras.layers import Dense, Dropout, LSTM\n",
        "from tensorflow.keras.utils import to_categorical\n",
        "import matplotlib.pyplot as plt\n",
        "import numpy as np"
      ]
    },
    {
      "cell_type": "markdown",
      "metadata": {},
      "source": [
        "# Load data"
      ]
    },
    {
      "cell_type": "code",
      "execution_count": 2,
      "metadata": {},
      "outputs": [],
      "source": [
        "from joblib import load\n",
        "X_test = load('./data/X_test.pkl')\n",
        "y_test = load('./data/y_test.pkl')\n",
        "X_train_smote_enn = load('./data/X_train_smote_enn.pkl')\n",
        "y_train_smote_enn = load('./data/y_train_smote_enn.pkl')"
      ]
    },
    {
      "cell_type": "markdown",
      "metadata": {
        "id": "j0Q88RxeNl9M"
      },
      "source": [
        "# Hàm đánh giá mô hình"
      ]
    },
    {
      "cell_type": "code",
      "execution_count": 3,
      "metadata": {
        "id": "0X-kcbVDQenQ"
      },
      "outputs": [],
      "source": [
        "# Hàm đánh giá mô hình\n",
        "def evaluate_model(model_name, y_test, y_pred, y_pred_proba):\n",
        "    print(f\"\\nModel: {model_name}\")\n",
        "    print(\"Confusion Matrix:\")\n",
        "    cm = confusion_matrix(y_test, y_pred)\n",
        "    print(cm)\n",
        "    print(\"\\nClassification Report:\")\n",
        "    print(classification_report(y_test, y_pred))\n",
        "    print(f\"ROC-AUC Score: {roc_auc_score(y_test, y_pred_proba):.4f}\")\n",
        "\n",
        "    metric = {\n",
        "        \"confusion_matrix\": cm.tolist(),\n",
        "        \"recall\": recall_score(y_test, y_pred, average=\"binary\"),\n",
        "        \"precision\": precision_score(y_test, y_pred, average=\"binary\"),\n",
        "        \"f1_score\": f1_score(y_test, y_pred, average=\"binary\"),\n",
        "        \"roc_auc\": roc_auc_score(y_test, y_pred_proba)\n",
        "    }\n",
        "    return metric"
      ]
    },
    {
      "cell_type": "code",
      "execution_count": 4,
      "metadata": {
        "id": "zUe-PnHlz2to"
      },
      "outputs": [],
      "source": [
        "metrics = {}"
      ]
    },
    {
      "cell_type": "markdown",
      "metadata": {
        "id": "nFz38JFa51B8"
      },
      "source": [
        "# Random forest"
      ]
    },
    {
      "cell_type": "code",
      "execution_count": 5,
      "metadata": {
        "id": "cknOw2A6OshT"
      },
      "outputs": [],
      "source": [
        "rf = RandomForestClassifier(random_state=42)\n",
        "rf.fit(X_train_smote_enn, y_train_smote_enn)\n",
        "y_pred_rf = rf.predict(X_test)\n",
        "y_pred_proba_rf = rf.predict_proba(X_test)[:, 1]"
      ]
    },
    {
      "cell_type": "code",
      "execution_count": 6,
      "metadata": {
        "colab": {
          "base_uri": "https://localhost:8080/"
        },
        "id": "gHCIM7H0z4IL",
        "outputId": "81cf9777-85c1-4c3a-cdfa-9c246cde7367"
      },
      "outputs": [
        {
          "name": "stdout",
          "output_type": "stream",
          "text": [
            "\n",
            "Model: RF\n",
            "Confusion Matrix:\n",
            "[[85263    32]\n",
            " [   32   116]]\n",
            "\n",
            "Classification Report:\n",
            "              precision    recall  f1-score   support\n",
            "\n",
            "           0       1.00      1.00      1.00     85295\n",
            "           1       0.78      0.78      0.78       148\n",
            "\n",
            "    accuracy                           1.00     85443\n",
            "   macro avg       0.89      0.89      0.89     85443\n",
            "weighted avg       1.00      1.00      1.00     85443\n",
            "\n",
            "ROC-AUC Score: 0.9716\n"
          ]
        }
      ],
      "source": [
        "metrics['RF'] = evaluate_model(\"RF\", y_test, y_pred_rf, y_pred_proba_rf)"
      ]
    },
    {
      "cell_type": "markdown",
      "metadata": {
        "id": "hRaRinw6SSFA"
      },
      "source": [
        "# ANN"
      ]
    },
    {
      "cell_type": "code",
      "execution_count": 8,
      "metadata": {
        "colab": {
          "base_uri": "https://localhost:8080/"
        },
        "id": "qD-t9YSfSaln",
        "outputId": "c1f005ec-4d54-477d-8d30-be290f8079bd"
      },
      "outputs": [
        {
          "name": "stderr",
          "output_type": "stream",
          "text": [
            "C:\\Users\\DanHuy\\AppData\\Roaming\\Python\\Python312\\site-packages\\keras\\src\\layers\\core\\dense.py:87: UserWarning: Do not pass an `input_shape`/`input_dim` argument to a layer. When using Sequential models, prefer using an `Input(shape)` object as the first layer in the model instead.\n",
            "  super().__init__(activity_regularizer=activity_regularizer, **kwargs)\n"
          ]
        }
      ],
      "source": [
        "ann = Sequential()\n",
        "ann.add(Dense(256, activation='relu', input_shape=(X_train_smote_enn.shape[1],)))\n",
        "ann.add(Dropout(0.3))  # Dropout for regularization\n",
        "ann.add(Dense(128, activation='relu'))\n",
        "ann.add(Dropout(0.3))\n",
        "ann.add(Dense(64, activation='relu'))\n",
        "ann.add(Dense(1, activation='sigmoid'))"
      ]
    },
    {
      "cell_type": "code",
      "execution_count": 9,
      "metadata": {
        "colab": {
          "base_uri": "https://localhost:8080/"
        },
        "id": "_sutUL5rTCgb",
        "outputId": "66b9b1bb-1dde-476a-c230-1f94f2593468"
      },
      "outputs": [
        {
          "name": "stdout",
          "output_type": "stream",
          "text": [
            "Epoch 1/20\n",
            "\u001b[1m3108/3108\u001b[0m \u001b[32m━━━━━━━━━━━━━━━━━━━━\u001b[0m\u001b[37m\u001b[0m \u001b[1m5s\u001b[0m 1ms/step - accuracy: 0.9818 - loss: 0.0465\n",
            "Epoch 2/20\n",
            "\u001b[1m3108/3108\u001b[0m \u001b[32m━━━━━━━━━━━━━━━━━━━━\u001b[0m\u001b[37m\u001b[0m \u001b[1m4s\u001b[0m 1ms/step - accuracy: 0.9985 - loss: 0.0057\n",
            "Epoch 3/20\n",
            "\u001b[1m3108/3108\u001b[0m \u001b[32m━━━━━━━━━━━━━━━━━━━━\u001b[0m\u001b[37m\u001b[0m \u001b[1m3s\u001b[0m 1ms/step - accuracy: 0.9993 - loss: 0.0034\n",
            "Epoch 4/20\n",
            "\u001b[1m3108/3108\u001b[0m \u001b[32m━━━━━━━━━━━━━━━━━━━━\u001b[0m\u001b[37m\u001b[0m \u001b[1m3s\u001b[0m 1ms/step - accuracy: 0.9993 - loss: 0.0027\n",
            "Epoch 5/20\n",
            "\u001b[1m3108/3108\u001b[0m \u001b[32m━━━━━━━━━━━━━━━━━━━━\u001b[0m\u001b[37m\u001b[0m \u001b[1m4s\u001b[0m 1ms/step - accuracy: 0.9995 - loss: 0.0025\n",
            "Epoch 6/20\n",
            "\u001b[1m3108/3108\u001b[0m \u001b[32m━━━━━━━━━━━━━━━━━━━━\u001b[0m\u001b[37m\u001b[0m \u001b[1m3s\u001b[0m 1ms/step - accuracy: 0.9995 - loss: 0.0024\n",
            "Epoch 7/20\n",
            "\u001b[1m3108/3108\u001b[0m \u001b[32m━━━━━━━━━━━━━━━━━━━━\u001b[0m\u001b[37m\u001b[0m \u001b[1m3s\u001b[0m 1ms/step - accuracy: 0.9996 - loss: 0.0018\n",
            "Epoch 8/20\n",
            "\u001b[1m3108/3108\u001b[0m \u001b[32m━━━━━━━━━━━━━━━━━━━━\u001b[0m\u001b[37m\u001b[0m \u001b[1m4s\u001b[0m 1ms/step - accuracy: 0.9996 - loss: 0.0017\n",
            "Epoch 9/20\n",
            "\u001b[1m3108/3108\u001b[0m \u001b[32m━━━━━━━━━━━━━━━━━━━━\u001b[0m\u001b[37m\u001b[0m \u001b[1m3s\u001b[0m 1ms/step - accuracy: 0.9997 - loss: 0.0018\n",
            "Epoch 10/20\n",
            "\u001b[1m3108/3108\u001b[0m \u001b[32m━━━━━━━━━━━━━━━━━━━━\u001b[0m\u001b[37m\u001b[0m \u001b[1m3s\u001b[0m 1ms/step - accuracy: 0.9997 - loss: 0.0020\n",
            "Epoch 11/20\n",
            "\u001b[1m3108/3108\u001b[0m \u001b[32m━━━━━━━━━━━━━━━━━━━━\u001b[0m\u001b[37m\u001b[0m \u001b[1m4s\u001b[0m 1ms/step - accuracy: 0.9997 - loss: 0.0017\n",
            "Epoch 12/20\n",
            "\u001b[1m3108/3108\u001b[0m \u001b[32m━━━━━━━━━━━━━━━━━━━━\u001b[0m\u001b[37m\u001b[0m \u001b[1m3s\u001b[0m 1ms/step - accuracy: 0.9997 - loss: 0.0019\n",
            "Epoch 13/20\n",
            "\u001b[1m3108/3108\u001b[0m \u001b[32m━━━━━━━━━━━━━━━━━━━━\u001b[0m\u001b[37m\u001b[0m \u001b[1m3s\u001b[0m 1ms/step - accuracy: 0.9997 - loss: 0.0016\n",
            "Epoch 14/20\n",
            "\u001b[1m3108/3108\u001b[0m \u001b[32m━━━━━━━━━━━━━━━━━━━━\u001b[0m\u001b[37m\u001b[0m \u001b[1m4s\u001b[0m 1ms/step - accuracy: 0.9998 - loss: 0.0011\n",
            "Epoch 15/20\n",
            "\u001b[1m3108/3108\u001b[0m \u001b[32m━━━━━━━━━━━━━━━━━━━━\u001b[0m\u001b[37m\u001b[0m \u001b[1m3s\u001b[0m 1ms/step - accuracy: 0.9998 - loss: 0.0011\n",
            "Epoch 16/20\n",
            "\u001b[1m3108/3108\u001b[0m \u001b[32m━━━━━━━━━━━━━━━━━━━━\u001b[0m\u001b[37m\u001b[0m \u001b[1m3s\u001b[0m 1ms/step - accuracy: 0.9998 - loss: 0.0012\n",
            "Epoch 17/20\n",
            "\u001b[1m3108/3108\u001b[0m \u001b[32m━━━━━━━━━━━━━━━━━━━━\u001b[0m\u001b[37m\u001b[0m \u001b[1m4s\u001b[0m 1ms/step - accuracy: 0.9997 - loss: 0.0012\n",
            "Epoch 18/20\n",
            "\u001b[1m3108/3108\u001b[0m \u001b[32m━━━━━━━━━━━━━━━━━━━━\u001b[0m\u001b[37m\u001b[0m \u001b[1m3s\u001b[0m 1ms/step - accuracy: 0.9998 - loss: 9.0342e-04\n",
            "Epoch 19/20\n",
            "\u001b[1m3108/3108\u001b[0m \u001b[32m━━━━━━━━━━━━━━━━━━━━\u001b[0m\u001b[37m\u001b[0m \u001b[1m3s\u001b[0m 1ms/step - accuracy: 0.9997 - loss: 0.0015\n",
            "Epoch 20/20\n",
            "\u001b[1m3108/3108\u001b[0m \u001b[32m━━━━━━━━━━━━━━━━━━━━\u001b[0m\u001b[37m\u001b[0m \u001b[1m4s\u001b[0m 1ms/step - accuracy: 0.9998 - loss: 7.6610e-04\n"
          ]
        }
      ],
      "source": [
        "ann.compile(optimizer='adam', loss='binary_crossentropy', metrics=['accuracy'])\n",
        "history = ann.fit(X_train_smote_enn, y_train_smote_enn, epochs=20, batch_size=128)"
      ]
    },
    {
      "cell_type": "code",
      "execution_count": 10,
      "metadata": {
        "colab": {
          "base_uri": "https://localhost:8080/"
        },
        "id": "inaOubIiTYdb",
        "outputId": "7af8e1e9-a4c0-4421-cd15-9d8f5bce44f3"
      },
      "outputs": [
        {
          "name": "stdout",
          "output_type": "stream",
          "text": [
            "\u001b[1m2671/2671\u001b[0m \u001b[32m━━━━━━━━━━━━━━━━━━━━\u001b[0m\u001b[37m\u001b[0m \u001b[1m1s\u001b[0m 499us/step\n"
          ]
        }
      ],
      "source": [
        "y_pred_proba_ann = ann.predict(X_test)\n",
        "y_pred_ann = (y_pred_proba_ann > 0.5).astype(int)"
      ]
    },
    {
      "cell_type": "code",
      "execution_count": 11,
      "metadata": {
        "colab": {
          "base_uri": "https://localhost:8080/"
        },
        "id": "fHe6PqMT6_W9",
        "outputId": "27679f0a-d94e-4f8f-ea9c-6cb1bad4cb3f"
      },
      "outputs": [
        {
          "name": "stdout",
          "output_type": "stream",
          "text": [
            "\n",
            "Model: ANN\n",
            "Confusion Matrix:\n",
            "[[85226    69]\n",
            " [   28   120]]\n",
            "\n",
            "Classification Report:\n",
            "              precision    recall  f1-score   support\n",
            "\n",
            "           0       1.00      1.00      1.00     85295\n",
            "           1       0.63      0.81      0.71       148\n",
            "\n",
            "    accuracy                           1.00     85443\n",
            "   macro avg       0.82      0.91      0.86     85443\n",
            "weighted avg       1.00      1.00      1.00     85443\n",
            "\n",
            "ROC-AUC Score: 0.9576\n"
          ]
        }
      ],
      "source": [
        "metrics['ANN'] = evaluate_model(\"ANN\", y_test, y_pred_ann, y_pred_proba_ann)"
      ]
    },
    {
      "cell_type": "markdown",
      "metadata": {
        "id": "ws1ys8-e7DL3"
      },
      "source": [
        "# LSTM"
      ]
    },
    {
      "cell_type": "code",
      "execution_count": 12,
      "metadata": {
        "colab": {
          "base_uri": "https://localhost:8080/"
        },
        "id": "jl2AfV6N8UD8",
        "outputId": "0f3a2f7e-264b-49b3-8657-4c8e7bc6d87f"
      },
      "outputs": [
        {
          "data": {
            "text/plain": [
              "(397709, 1, 30)"
            ]
          },
          "execution_count": 12,
          "metadata": {},
          "output_type": "execute_result"
        }
      ],
      "source": [
        "X_lstm = X_train_smote_enn.values.reshape((X_train_smote_enn.shape[0], 1, X_train_smote_enn.shape[1]))\n",
        "X_lstm.shape"
      ]
    },
    {
      "cell_type": "code",
      "execution_count": 13,
      "metadata": {
        "colab": {
          "base_uri": "https://localhost:8080/"
        },
        "id": "nxbE6SRU_xNf",
        "outputId": "560e366b-3f08-4295-e82e-7e331f313552"
      },
      "outputs": [
        {
          "name": "stderr",
          "output_type": "stream",
          "text": [
            "C:\\Users\\DanHuy\\AppData\\Roaming\\Python\\Python312\\site-packages\\keras\\src\\layers\\rnn\\rnn.py:204: UserWarning: Do not pass an `input_shape`/`input_dim` argument to a layer. When using Sequential models, prefer using an `Input(shape)` object as the first layer in the model instead.\n",
            "  super().__init__(**kwargs)\n"
          ]
        }
      ],
      "source": [
        "lstm = Sequential()\n",
        "lstm.add(LSTM(256, activation='relu', input_shape=(X_lstm.shape[1], X_lstm.shape[2]), return_sequences=True))\n",
        "lstm.add(Dropout(0.3))\n",
        "lstm.add(LSTM(128, activation='relu'))\n",
        "lstm.add(Dropout(0.3))\n",
        "lstm.add(Dense(64, activation='relu'))\n",
        "lstm.add(Dense(1, activation='sigmoid'))"
      ]
    },
    {
      "cell_type": "code",
      "execution_count": 14,
      "metadata": {
        "colab": {
          "base_uri": "https://localhost:8080/"
        },
        "id": "J4eqvunoBS6t",
        "outputId": "4332b51e-6c42-454e-af73-461f952497ae"
      },
      "outputs": [
        {
          "name": "stdout",
          "output_type": "stream",
          "text": [
            "Epoch 1/15\n",
            "\u001b[1m1554/1554\u001b[0m \u001b[32m━━━━━━━━━━━━━━━━━━━━\u001b[0m\u001b[37m\u001b[0m \u001b[1m11s\u001b[0m 6ms/step - accuracy: 0.9705 - loss: 0.0884\n",
            "Epoch 2/15\n",
            "\u001b[1m1554/1554\u001b[0m \u001b[32m━━━━━━━━━━━━━━━━━━━━\u001b[0m\u001b[37m\u001b[0m \u001b[1m9s\u001b[0m 6ms/step - accuracy: 0.9990 - loss: 0.0040\n",
            "Epoch 3/15\n",
            "\u001b[1m1554/1554\u001b[0m \u001b[32m━━━━━━━━━━━━━━━━━━━━\u001b[0m\u001b[37m\u001b[0m \u001b[1m9s\u001b[0m 6ms/step - accuracy: 0.9993 - loss: 0.0026\n",
            "Epoch 4/15\n",
            "\u001b[1m1554/1554\u001b[0m \u001b[32m━━━━━━━━━━━━━━━━━━━━\u001b[0m\u001b[37m\u001b[0m \u001b[1m9s\u001b[0m 6ms/step - accuracy: 0.9995 - loss: 0.0022\n",
            "Epoch 5/15\n",
            "\u001b[1m1554/1554\u001b[0m \u001b[32m━━━━━━━━━━━━━━━━━━━━\u001b[0m\u001b[37m\u001b[0m \u001b[1m9s\u001b[0m 6ms/step - accuracy: 0.9996 - loss: 0.0019\n",
            "Epoch 6/15\n",
            "\u001b[1m1554/1554\u001b[0m \u001b[32m━━━━━━━━━━━━━━━━━━━━\u001b[0m\u001b[37m\u001b[0m \u001b[1m9s\u001b[0m 6ms/step - accuracy: 0.9996 - loss: 0.0023\n",
            "Epoch 7/15\n",
            "\u001b[1m1554/1554\u001b[0m \u001b[32m━━━━━━━━━━━━━━━━━━━━\u001b[0m\u001b[37m\u001b[0m \u001b[1m9s\u001b[0m 6ms/step - accuracy: 0.9997 - loss: 0.0013\n",
            "Epoch 8/15\n",
            "\u001b[1m1554/1554\u001b[0m \u001b[32m━━━━━━━━━━━━━━━━━━━━\u001b[0m\u001b[37m\u001b[0m \u001b[1m10s\u001b[0m 6ms/step - accuracy: 0.9997 - loss: 0.0015\n",
            "Epoch 9/15\n",
            "\u001b[1m1554/1554\u001b[0m \u001b[32m━━━━━━━━━━━━━━━━━━━━\u001b[0m\u001b[37m\u001b[0m \u001b[1m9s\u001b[0m 6ms/step - accuracy: 0.9998 - loss: 0.0014\n",
            "Epoch 10/15\n",
            "\u001b[1m1554/1554\u001b[0m \u001b[32m━━━━━━━━━━━━━━━━━━━━\u001b[0m\u001b[37m\u001b[0m \u001b[1m9s\u001b[0m 6ms/step - accuracy: 0.9997 - loss: 0.0014\n",
            "Epoch 11/15\n",
            "\u001b[1m1554/1554\u001b[0m \u001b[32m━━━━━━━━━━━━━━━━━━━━\u001b[0m\u001b[37m\u001b[0m \u001b[1m9s\u001b[0m 6ms/step - accuracy: 0.9998 - loss: 0.0015\n",
            "Epoch 12/15\n",
            "\u001b[1m1554/1554\u001b[0m \u001b[32m━━━━━━━━━━━━━━━━━━━━\u001b[0m\u001b[37m\u001b[0m \u001b[1m9s\u001b[0m 6ms/step - accuracy: 0.9998 - loss: 8.7006e-04\n",
            "Epoch 13/15\n",
            "\u001b[1m1554/1554\u001b[0m \u001b[32m━━━━━━━━━━━━━━━━━━━━\u001b[0m\u001b[37m\u001b[0m \u001b[1m10s\u001b[0m 6ms/step - accuracy: 0.9998 - loss: 0.0010\n",
            "Epoch 14/15\n",
            "\u001b[1m1554/1554\u001b[0m \u001b[32m━━━━━━━━━━━━━━━━━━━━\u001b[0m\u001b[37m\u001b[0m \u001b[1m10s\u001b[0m 6ms/step - accuracy: 0.9998 - loss: 0.0015\n",
            "Epoch 15/15\n",
            "\u001b[1m1554/1554\u001b[0m \u001b[32m━━━━━━━━━━━━━━━━━━━━\u001b[0m\u001b[37m\u001b[0m \u001b[1m9s\u001b[0m 6ms/step - accuracy: 0.9998 - loss: 7.5421e-04\n"
          ]
        }
      ],
      "source": [
        "lstm.compile(optimizer='adam', loss='binary_crossentropy', metrics=['accuracy'])\n",
        "history = lstm.fit(X_lstm, y_train_smote_enn, epochs=15, batch_size=256)"
      ]
    },
    {
      "cell_type": "code",
      "execution_count": 15,
      "metadata": {
        "colab": {
          "base_uri": "https://localhost:8080/"
        },
        "id": "LuY0tW94EqKS",
        "outputId": "d49c5f3e-7ac0-4a1b-8da8-1b0cad528bc4"
      },
      "outputs": [
        {
          "name": "stdout",
          "output_type": "stream",
          "text": [
            "\u001b[1m2671/2671\u001b[0m \u001b[32m━━━━━━━━━━━━━━━━━━━━\u001b[0m\u001b[37m\u001b[0m \u001b[1m3s\u001b[0m 1ms/step\n"
          ]
        }
      ],
      "source": [
        "X_test_lstm = X_test.values.reshape((X_test.shape[0], 1, X_test.shape[1]))\n",
        "y_pred_proba_lstm = lstm.predict(X_test_lstm)\n",
        "y_pred_lstm = (y_pred_proba_lstm > 0.5).astype(int)"
      ]
    },
    {
      "cell_type": "code",
      "execution_count": 16,
      "metadata": {
        "colab": {
          "base_uri": "https://localhost:8080/"
        },
        "id": "Nkm1H0iREyTK",
        "outputId": "191dc0bf-3cde-4109-fa01-66789beffed9"
      },
      "outputs": [
        {
          "name": "stdout",
          "output_type": "stream",
          "text": [
            "\n",
            "Model: LSTM\n",
            "Confusion Matrix:\n",
            "[[85233    62]\n",
            " [   27   121]]\n",
            "\n",
            "Classification Report:\n",
            "              precision    recall  f1-score   support\n",
            "\n",
            "           0       1.00      1.00      1.00     85295\n",
            "           1       0.66      0.82      0.73       148\n",
            "\n",
            "    accuracy                           1.00     85443\n",
            "   macro avg       0.83      0.91      0.87     85443\n",
            "weighted avg       1.00      1.00      1.00     85443\n",
            "\n",
            "ROC-AUC Score: 0.9663\n"
          ]
        }
      ],
      "source": [
        "metrics['LSTM'] = evaluate_model(\"LSTM\", y_test, y_pred_lstm, y_pred_proba_lstm)"
      ]
    },
    {
      "cell_type": "markdown",
      "metadata": {
        "id": "Fc-3X9P67NVp"
      },
      "source": [
        "# Lưu kết quả đánh giá vào file JSON"
      ]
    },
    {
      "cell_type": "code",
      "execution_count": 17,
      "metadata": {
        "colab": {
          "base_uri": "https://localhost:8080/"
        },
        "id": "E5XaWk4e7M3p",
        "outputId": "7656b482-66dc-400a-f357-445b826f171b"
      },
      "outputs": [
        {
          "name": "stdout",
          "output_type": "stream",
          "text": [
            "Metrics saved to metrics.json\n"
          ]
        }
      ],
      "source": [
        "# lưu metrics vào file json\n",
        "import json\n",
        "\n",
        "with open('metrics.json', 'w') as f:\n",
        "    json.dump(metrics, f)\n",
        "    print(\"Metrics saved to metrics.json\")"
      ]
    },
    {
      "cell_type": "markdown",
      "metadata": {
        "id": "XfWZVaevRgec"
      },
      "source": [
        "# So sánh ROC-AUC Score"
      ]
    },
    {
      "cell_type": "code",
      "execution_count": 18,
      "metadata": {
        "colab": {
          "base_uri": "https://localhost:8080/",
          "height": 542
        },
        "id": "_CxJRjtITeM3",
        "outputId": "bcd90ec2-7d76-4b57-a637-2f3ab8b3bf57"
      },
      "outputs": [
        {
          "data": {
            "image/png": "[encoded data removed]",
            "text/plain": [
              "<Figure size 1000x600 with 1 Axes>"
            ]
          },
          "metadata": {},
          "output_type": "display_data"
        }
      ],
      "source": [
        "\n",
        "\n",
        "with open('metrics.json', 'r') as f:\n",
        "    metrics = json.load(f)\n",
        "\n",
        "models = list(metrics.keys())\n",
        "roc_auc_scores = [metrics[model]['roc_auc'] for model in models]\n",
        "\n",
        "plt.figure(figsize=(10, 6))\n",
        "bars = plt.bar(models, roc_auc_scores)\n",
        "plt.xlabel('Models')\n",
        "plt.ylabel('ROC-AUC Score')\n",
        "\n",
        "for bar in bars:\n",
        "    yval = bar.get_height()\n",
        "    plt.text(bar.get_x() + bar.get_width()/2, yval + 0.01, round(yval, 4), ha='center', va='bottom')\n",
        "\n",
        "plt.show()"
      ]
    },
    {
      "cell_type": "code",
      "execution_count": null,
      "metadata": {},
      "outputs": [],
      "source": []
    },
    {
      "cell_type": "code",
      "execution_count": null,
      "metadata": {},
      "outputs": [],
      "source": []
    }
  ],
  "metadata": {
    "colab": {
      "provenance": []
    },
    "kernelspec": {
      "display_name": "Python 3",
      "name": "python3"
    },
    "language_info": {
      "codemirror_mode": {
        "name": "ipython",
        "version": 3
      },
      "file_extension": ".py",
      "mimetype": "text/x-python",
      "name": "python",
      "nbconvert_exporter": "python",
      "pygments_lexer": "ipython3",
      "version": "3.12.5"
    }
  },
  "nbformat": 4,
  "nbformat_minor": 0
}
